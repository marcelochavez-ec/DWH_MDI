import pandas as pd
from sklearn.datasets import load_iris


df_desaparecidos = pd.read_excel(r"OE_HI\DB\DatosAbiertos")
